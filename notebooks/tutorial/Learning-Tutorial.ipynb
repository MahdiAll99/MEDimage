{
 "cells": [
  {
   "cell_type": "markdown",
   "id": "ecdbaa79",
   "metadata": {},
   "source": [
    "# Learning-Module Tutorial − Training an XGBoost classification model using MEDimage package\n",
    "\n",
    "@Author : [MEDomics consortium](https://github.com/medomics/)\n",
    "\n",
    "@Email : medomics.info@gmail.com\n"
   ]
  },
  {
   "cell_type": "markdown",
   "id": "05880d2d",
   "metadata": {},
   "source": [
    "**STATEMENT**:\n",
    "This file is part of <https://github.com/MEDomics/MEDomicsLab/>,\n",
    "a package providing PYTHON programming tools for radiomics analysis.\n",
    "--> Copyright (C) MEDomicsLab consortium."
   ]
  },
  {
   "cell_type": "markdown",
   "id": "594bc917",
   "metadata": {},
   "source": [
    "**Warning**: Do not run all cells at once, run the cells accodring to the following steps:\n",
    "- Run the first two to create the data splits\n",
    "- Move the features folder to `path_data`\n",
    "- Run the last cell"
   ]
  },
  {
   "cell_type": "code",
   "execution_count": null,
   "id": "252f367c",
   "metadata": {},
   "outputs": [],
   "source": [
    "import os\n",
    "import sys\n",
    "from pathlib import Path\n",
    "\n",
    "MODULE_DIR = os.path.dirname(os.path.abspath('../MEDimage/'))\n",
    "sys.path.append(os.path.dirname(MODULE_DIR))\n",
    "\n",
    "import MEDimage"
   ]
  },
  {
   "cell_type": "markdown",
   "id": "42f289a4",
   "metadata": {},
   "source": [
    "#### Splitting data - train & test\n",
    "using `method=\"random\"`creates a train, test, and a hold-out set but using `method=\"all_learn\"` creates only a train and test set."
   ]
  },
  {
   "cell_type": "code",
   "execution_count": null,
   "id": "7d208e6a",
   "metadata": {},
   "outputs": [],
   "source": [
    "# Path to the folder of the study (folder that will contain everything)\n",
    "path_study = Path.cwd() / \"learning\"\n",
    "\n",
    "# Path to the outcomes file\n",
    "path_outcome_file = Path.cwd() / \"learning\" / \"Glioma__LGG_IDH__outcomes.csv\"\n",
    "\n",
    "# Create a folder for the experiment\n",
    "if not os.path.isdir(path_study / 'experiments'):\n",
    "    os.mkdir(path_study / 'experiments')\n",
    "\n",
    "path_save_experiment = path_study / 'experiments'\n",
    "\n",
    "# Seperate data (using the outcomes file)\n",
    "path_data, _ = MEDimage.learning.ml_utils.create_holdout_set(\n",
    "    path_outcome_file=path_outcome_file, \n",
    "    outcome_name='IDH', \n",
    "    path_save_experiments=path_save_experiment,\n",
    "    method='all_learn'\n",
    ")\n",
    "\n",
    "print(\"Move the features folder to \", path_data)"
   ]
  },
  {
   "cell_type": "markdown",
   "id": "554aab45",
   "metadata": {},
   "source": [
    "**PS**: FEATURES folder must be moved to the `path_data` folder before running the experiment!"
   ]
  },
  {
   "cell_type": "markdown",
   "id": "9c5e7296",
   "metadata": {},
   "source": [
    "### Setting up and running the experiment\n",
    "\n",
    "#### Explanation of the settings files:\n",
    "\n",
    "- **ml_settings**: This file contains the methods to be used for the experiment, including the machine learning algorithm, feature selection method, and features normalization method. Currently, only one option is available for this step, and therefore, **the file must not be altered**.\n",
    "\n",
    "- **ml_variables (MAIN FILE)**: This file configures the variables for the experiment along with its options. Inside *\"var1\"*, you should set the following parameters:\n",
    "\n",
    "    - **nameType**: Specify \"Radiomics*Something*\" if the experiment utilizes only radiomics features.\n",
    "    - **path**: By default, this is set to *setToFEATURESinWorkspace*, indicating that the folder containing the feature is named *FEATURES*. Adjust this to your actual folder name using *setToFolderNameinWorkspace*.\n",
    "    - **scans**: List the modalities to be used in the experiment, for example, [\"T1C\", \"T2WI\"].\n",
    "    - **rois**: List the ROIs to be analyzed (ROIs are found in the CSV file name within parentheses). For example, the ROI name for *radiomics__T2WI(rccLesion)__image.csv* is *rccLesion*.\n",
    "    - **imSpaces**: Specify the Radiomics features CSV file extension, typically *image*.\n",
    "    - **combinations**: Utilize this option to combine different files for various modalities in the experiment. For instance: {\"T2WI\": [\"texture\"],\"T1C\": [\"intensity\"]} will utilize the *texture* CSV for *T2WI* and the *intensity* CSV for *T1C*.\n",
    "    - **use_combinations**: By default, set to *False*. Change it to *True* to enable combinations.\n",
    "    - **var_datacleaning**: Determine the data cleaning method to be used.\n",
    "    - **var_normalization**: Specify the normalization method to be used. Set to \"combat\" or leave empty.\n",
    "    - **var_fSetReduction**: Specify the method for feature set reduction. The only option available for now is \"*FDA*\".\n",
    "    - Other options should not be changed.\n",
    "\n",
    "- **ml_algorithms**: This file contains the parameters of the machine learning algorithm (threshold, variable importance, parameter tuning method, etc.).\n",
    "\n",
    "- **ml_datacleaning**: This file includes options for feature cleaning (imputation method, variance threshold, etc.).\n",
    "\n",
    "- **ml_design**: This file contains options for the data splitting methods (number of splits, test set proportion, etc.).\n",
    "\n",
    "- **ml_fset_reduction**: This file holds options for the feature reduction method. Currently, only FDA is implemented, so the file is specific to FDA options (number of features to keep, inter-correlation threshold, etc.).\n",
    "\n",
    "- **ml_fset_selection**: NOT CURRENTLY IN USE. PLEASE IGNORE!!!\n",
    "\n",
    "- **ml_imbalance**: NOT CURRENTLY IN USE. PLEASE IGNORE!!!\n",
    "\n",
    "- **ml_normalization**: NOT CURRENTLY IN USE. PLEASE IGNORE!!!"
   ]
  },
  {
   "cell_type": "code",
   "execution_count": null,
   "id": "3b376829",
   "metadata": {
    "scrolled": true
   },
   "outputs": [],
   "source": [
    "# Experiment name. The recommanded norm: DatasetName_ClassificationProblem_RadiomicsType_Modality\n",
    "experiment_label = \"Glioma_IDH_Image_T1\"\n",
    "\n",
    "# Path to settings folder\n",
    "path_settings = Path.cwd() / \"learning\" / \"settings\"\n",
    "\n",
    "# Initialize the radiomics learner class (Main machine learning class)\n",
    "learner = MEDimage.learning.RadiomicsLearner(\n",
    "    path_study=path_data, \n",
    "    path_settings=path_settings, \n",
    "    experiment_label=experiment_label\n",
    ")\n",
    "\n",
    "# Launch the experiment. Set holdout_test to True to test the model on holdout as well\n",
    "learner.run_experiment(holdout_test=False)"
   ]
  }
 ],
 "metadata": {
  "kernelspec": {
   "display_name": "medimage",
   "language": "python",
   "name": "medimage"
  },
  "language_info": {
   "codemirror_mode": {
    "name": "ipython",
    "version": 3
   },
   "file_extension": ".py",
   "mimetype": "text/x-python",
   "name": "python",
   "nbconvert_exporter": "python",
   "pygments_lexer": "ipython3",
   "version": "3.9.13"
  }
 },
 "nbformat": 4,
 "nbformat_minor": 5
}
